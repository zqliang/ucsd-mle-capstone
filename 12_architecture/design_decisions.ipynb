{
 "cells": [
  {
   "cell_type": "markdown",
   "id": "c765d326-b6f8-4439-846a-2955912d1efa",
   "metadata": {},
   "source": [
    "# Architecture"
   ]
  },
  {
   "cell_type": "markdown",
   "id": "f7add545-515a-4462-906a-83e99a4073bb",
   "metadata": {},
   "source": [
    "Streamlit was chosen to build this web application due to its ease of use and allows for quick spin-up of front-end components. Unlike other frameworks such as Flask, it is tailored for machine learning and data science use cases as it shifts focus away from necessary front-end development. It's a modern Python framework that's gaining popularity within the industry. \n",
    "\n",
    "Deployment is also done via Streamlit Community Cloud, fast and free of charge.\n",
    "\n",
    "Data is stored locally in csv files. External storage was not necessary since the application is able to handle the full dataset of ~20,000 anime records. Some room for improvements in the architecture include adding caching mechanisms to store recommended results. Streamlit sessions can be used to keep track of what the user has already inputted."
   ]
  },
  {
   "cell_type": "code",
   "execution_count": null,
   "id": "5db99b4a-5cb2-47b4-9c70-dbddff35bf9d",
   "metadata": {},
   "outputs": [],
   "source": []
  }
 ],
 "metadata": {
  "kernelspec": {
   "display_name": "Python 3 (ipykernel)",
   "language": "python",
   "name": "python3"
  },
  "language_info": {
   "codemirror_mode": {
    "name": "ipython",
    "version": 3
   },
   "file_extension": ".py",
   "mimetype": "text/x-python",
   "name": "python",
   "nbconvert_exporter": "python",
   "pygments_lexer": "ipython3",
   "version": "3.8.16"
  }
 },
 "nbformat": 4,
 "nbformat_minor": 5
}
