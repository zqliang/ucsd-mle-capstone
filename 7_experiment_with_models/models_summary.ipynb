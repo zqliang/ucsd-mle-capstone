{
 "cells": [
  {
   "cell_type": "markdown",
   "id": "ecc2f5f3-ef8c-4cf3-a06e-b3c346eafcc3",
   "metadata": {},
   "source": [
    "# Models summary"
   ]
  },
  {
   "cell_type": "markdown",
   "id": "9a33a33c-5dbd-4456-b97c-7963add2d48b",
   "metadata": {},
   "source": [
    "### Content-based recommender"
   ]
  },
  {
   "cell_type": "markdown",
   "id": "2d404989-80f4-438c-8652-066c0e3f9473",
   "metadata": {},
   "source": [
    "The content-based recommendation model uses TF-IDF vectorization to find the relative importance of anime titles. A TF-IDF matrix was generated for the Synopsis feature, and one-hot encoders were stacked to account for additional features: Genres, Studios, and Rating (Rating here refers to the suitable age range, e.g. PG, R, etc and not how the users scored the anime out of 10). Different weights were assigned to the features, with Synopsis and Genres being more relevent. Parameters have been set in the vectorizer which exludes terms that appear in > 90% of text and includes terms that are prevelant in at least 2 documents. We also keep a maximum of 10,000 unique words for reducing matrix dimensionality. Additionally, sparse matrices were used to improve performance.\n",
    "\n",
    "After calculating the TF-IDF scores, the cosine similarity scores, which is a measurement between the angles of the vectors, determines which titles are more similar to each other. \n",
    "\n",
    "We use a simple threshold-based approach for evaluating the model. Since we do not have info on the end user, we derive a ground truth based on a sample of anime highly rated by other users to find the relevance of the recommended titles. For popular titles, the model yields high precision against the sample, and for less popular titles, it still scores better than random guessing (precision of > 0.5)."
   ]
  },
  {
   "cell_type": "markdown",
   "id": "ac01585a-caad-4294-93b8-7c9d82412c40",
   "metadata": {},
   "source": [
    "### Collaborative filtering"
   ]
  },
  {
   "cell_type": "markdown",
   "id": "f5887af3-8a06-4855-8a07-bdc324afabad",
   "metadata": {},
   "source": [
    "The collaborative filtering method uses deep learning with tensors to predict how users would rate an anime out of 10, given their ratings history. We split the users-score dataset into train and test sets after filtering out sparse titles and users (anime/users with few ratings). The results of the deep learning matrix-factorization yields a RMSE score of 1.148, which is a decent score (the model is off by approximately 1 for the predicted rating). However, we don't have any saved history for a new user, so more work would be needed to collect info on their preferences - it's subjected to the cold start problem."
   ]
  }
 ],
 "metadata": {
  "kernelspec": {
   "display_name": "Python 3 (ipykernel)",
   "language": "python",
   "name": "python3"
  },
  "language_info": {
   "codemirror_mode": {
    "name": "ipython",
    "version": 3
   },
   "file_extension": ".py",
   "mimetype": "text/x-python",
   "name": "python",
   "nbconvert_exporter": "python",
   "pygments_lexer": "ipython3",
   "version": "3.8.16"
  }
 },
 "nbformat": 4,
 "nbformat_minor": 5
}
